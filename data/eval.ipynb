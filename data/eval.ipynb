{
 "cells": [
  {
   "cell_type": "code",
   "execution_count": 140,
   "metadata": {},
   "outputs": [],
   "source": [
    "import pandas as pd\n",
    "import matplotlib.pyplot as plt\n",
    "from collections import namedtuple\n",
    "import os"
   ]
  },
  {
   "cell_type": "code",
   "execution_count": 141,
   "metadata": {},
   "outputs": [],
   "source": [
    "Data = namedtuple('Data', ['name', 'all_coverage_filepath', 'browser_coverage_filepath', 'exectime', 'color', 'label'])\n",
    "\n",
    "def map_data(data: Data):\n",
    "    seconds_per_hour = 3600\n",
    "    cov = None\n",
    "    with open(data.browser_coverage_filepath, 'r') as f:\n",
    "        cov = pd.read_csv(f, header=None)\n",
    "\n",
    "    num_edges = cov.iloc[0,1]\n",
    "    cov.columns = ['input', 'browser_coverage']\n",
    "    cov.drop(cov.index[0], inplace=True)\n",
    "\n",
    "    with open(data.all_coverage_filepath, 'r') as f:\n",
    "        all_cov = pd.read_csv(f, header=None)\n",
    "        all_cov.columns = ['input', 'all_coverage']\n",
    "        all_cov.drop(all_cov.index[0], inplace=True)\n",
    "        cov = pd.concat([cov, all_cov['all_coverage']], axis=1)\n",
    "\n",
    "    cov['input'] = cov['input'].astype(float).apply(lambda x: x*data.exectime / seconds_per_hour)\n",
    "    cov.rename(columns={'input': 'time'}, inplace=True)\n",
    "\n",
    "    cov = cov[cov['time'] <= 24]\n",
    "\n",
    "    cov['browser_coverage'] = cov['browser_coverage'].astype(float).apply(lambda x: x/num_edges * 100)\n",
    "    cov['all_coverage'] = cov['all_coverage'].astype(float).apply(lambda x: x/num_edges * 100)\n",
    "    return cov\n",
    "\n",
    "\n",
    "def plot_coverage(plots: list[tuple[list[Data],str]], filename: str|None = None):\n",
    "    # Create a plot\n",
    "    plt.rcParams.update({'font.size': 22})\n",
    "    fig, axes = plt.subplots(nrows=1, ncols=2, figsize=(13, 6))\n",
    "\n",
    "    linewidth = 2.5\n",
    "\n",
    "    for i, plot in enumerate(plots):\n",
    "        data, title = plot\n",
    "        ax = axes[i]\n",
    "\n",
    "        total_max = 0\n",
    "\n",
    "        for d in data:\n",
    "            cov = map_data(d)\n",
    "            ax.plot(cov['time'], cov['all_coverage'], label=f'{d.label} (all)' if i == len(plots) - 1 else '', color=d.color, linewidth=linewidth)\n",
    "            ax.plot(cov['time'], cov['browser_coverage'], label=f'{d.label} (browser)' if i == len(plots) - 1 else '', color=d.color, linestyle='--', linewidth=linewidth)\n",
    "            total_max = max(cov['all_coverage'].max(), total_max)\n",
    "\n",
    "        ax.set_title(title)\n",
    "        ax.set_ylabel('% Edge Coverage')\n",
    "        ax.set_xlabel('Time (hours)')\n",
    "        ax.set_xlim(-0.25, 24)  # Limit x-axis to 24 seconds\n",
    "        ax.set_ylim(0, total_max + 1)\n",
    "        ax.locator_params(axis=\"y\", integer=True, tight=True)\n",
    "        ax.locator_params(axis=\"x\", tight=True)\n",
    "        ax.grid()\n",
    "\n",
    "    # plt.title(title)\n",
    "    # plt.ylabel('% Edge Coverage')\n",
    "    # plt.xlabel('Time (hours)')\n",
    "    # plt.legend()\n",
    "    # plt.grid()\n",
    "    # plt.xlim(-0.25, 24)  # Limit x-axis to 24 seconds\n",
    "    # plt.ylim(0, total_max + 1)  # Adjust y-axis for visibility\n",
    "    # axes[1].legend(loc='upper center',fancybox=False, shadow=False, ncol=4)\n",
    "\n",
    "    handles, labels = plt.gca().get_legend_handles_labels()\n",
    "    order = [2,0,3,1]\n",
    "    plt.legend([handles[idx] for idx in order],[labels[idx] for idx in order],loc='lower right')\n",
    "    plt.tight_layout()  # Adjust layout to prevent clipping of titles/labels\n",
    "\n",
    "    if filename:\n",
    "        fig.savefig(filename)\n",
    "        os.system(f'pdfcrop {filename} {filename}')\n",
    "    else:\n",
    "        fig.show()\n",
    "    plt.close()\n",
    "\n"
   ]
  },
  {
   "cell_type": "code",
   "execution_count": 142,
   "metadata": {},
   "outputs": [
    {
     "name": "stderr",
     "output_type": "stream",
     "text": [
      "sh: 1: pdfcrop: not found\n"
     ]
    }
   ],
   "source": [
    "\n",
    "\n",
    "orange = (239/256, 138/256, 23/256)\n",
    "blue = (60/256, 145/256, 230/256)\n",
    "\n",
    "# fuzzorigin old: different IP's\n",
    "# fuzzorigin new: different ports\n",
    "\n",
    "chrome_data = [\n",
    "    Data('Fuzzorigin Chrome', 'fuzzorigin_chrome_all_coverage.csv', 'fuzzorigin_chrome_browser_coverage.csv', 7.67, blue, 'fuzzorigin'),\n",
    "    Data('IPCrafter Chrome', 'ipcrafter_chrome_all_coverage.csv', 'ipcrafter_chrome_browser_coverage.csv', 3.02,  orange, 'our fuzzer'),\n",
    "]\n",
    "\n",
    "firefox_data = [\n",
    "    Data('Fuzzorigin Firefox', 'fuzzorigin_firefox_all_coverage.csv', 'fuzzorigin_firefox_browser_coverage.csv', 7.12, blue, 'fuzzorigin'),\n",
    "    Data('IPCrafter Firefox', 'ipcrafter_firefox_all_coverage.csv', 'ipcrafter_firefox_browser_coverage.csv', 6.67,  orange, 'our fuzzer'),\n",
    "]\n",
    "plot_coverage([(chrome_data, 'Chrome Coverage'),(firefox_data, 'Firefox Coverage')], 'coverage.pdf')\n"
   ]
  }
 ],
 "metadata": {
  "kernelspec": {
   "display_name": ".venv",
   "language": "python",
   "name": "python3"
  },
  "language_info": {
   "codemirror_mode": {
    "name": "ipython",
    "version": 3
   },
   "file_extension": ".py",
   "mimetype": "text/x-python",
   "name": "python",
   "nbconvert_exporter": "python",
   "pygments_lexer": "ipython3",
   "version": "3.11.2"
  }
 },
 "nbformat": 4,
 "nbformat_minor": 2
}
